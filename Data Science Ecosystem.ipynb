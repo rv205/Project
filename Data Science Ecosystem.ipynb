{
 "cells": [
  {
   "cell_type": "markdown",
   "id": "5e026624",
   "metadata": {},
   "source": [
    "# Data Science Tools and Ecosystem"
   ]
  },
  {
   "cell_type": "markdown",
   "id": "e6e4706c",
   "metadata": {},
   "source": [
    "In this notebook, Data Science Tools and Ecosystem are summarized"
   ]
  },
  {
   "cell_type": "markdown",
   "id": "429bff82",
   "metadata": {},
   "source": [
    "Popular Data Science Languages are:\n",
    "    \n",
    "    1) Python\n",
    "    2) R Language\n",
    "    3) Scala\n",
    "    4) Java"
   ]
  },
  {
   "cell_type": "markdown",
   "id": "9b734bc7",
   "metadata": {},
   "source": [
    "Data Science Libraries:\n",
    "    \n",
    "    1) Pandas\n",
    "    2) NumPy\n",
    "    3) Keras\n",
    "    4) SciPy\n",
    "    5) Seaborn"
   ]
  },
  {
   "cell_type": "markdown",
   "id": "535387ea",
   "metadata": {},
   "source": [
    "Data Science Tools:\n",
    "    \n",
    "    1) TensorFlow\n",
    "    2) Scikit Learn\n",
    "    3) Apache Spark\n",
    "    4) SQL\n",
    "    5) R"
   ]
  },
  {
   "cell_type": "markdown",
   "id": "c2ca37dd",
   "metadata": {},
   "source": [
    "Below are a few examples of evaluating arithmetic expressions in Python"
   ]
  },
  {
   "cell_type": "code",
   "execution_count": 2,
   "id": "4f491037",
   "metadata": {},
   "outputs": [
    {
     "data": {
      "text/plain": [
       "17"
      ]
     },
     "execution_count": 2,
     "metadata": {},
     "output_type": "execute_result"
    }
   ],
   "source": [
    "(3*4)+5  #This a simple arithmetic expression to mutiply then add integers"
   ]
  },
  {
   "cell_type": "markdown",
   "id": "120c350b",
   "metadata": {},
   "source": [
    " expression that converts 200 minutes into hours"
   ]
  },
  {
   "cell_type": "code",
   "execution_count": 6,
   "id": "101a9966",
   "metadata": {},
   "outputs": [
    {
     "name": "stdout",
     "output_type": "stream",
     "text": [
      "200 minutes is equal to 3.333333 hours.\n"
     ]
    }
   ],
   "source": [
    "def min_to_hrs(minutes): # this will convert 200 minutes to hours by diving by 60\n",
    "    hours = minutes/60 \n",
    "    return hours\n",
    "\n",
    "minutes = 200\n",
    "hours_r = min_to_hrs(minutes)\n",
    "print(f\"{minutes} minutes is equal to {hours_r:2f} hours.\")\n"
   ]
  },
  {
   "cell_type": "markdown",
   "id": "4d1f986f",
   "metadata": {},
   "source": [
    "## Author\n",
    "## Rohan\n"
   ]
  },
  {
   "cell_type": "code",
   "execution_count": null,
   "id": "3da90db5",
   "metadata": {},
   "outputs": [],
   "source": []
  }
 ],
 "metadata": {
  "kernelspec": {
   "display_name": "Python 3 (ipykernel)",
   "language": "python",
   "name": "python3"
  },
  "language_info": {
   "codemirror_mode": {
    "name": "ipython",
    "version": 3
   },
   "file_extension": ".py",
   "mimetype": "text/x-python",
   "name": "python",
   "nbconvert_exporter": "python",
   "pygments_lexer": "ipython3",
   "version": "3.9.7"
  }
 },
 "nbformat": 4,
 "nbformat_minor": 5
}
